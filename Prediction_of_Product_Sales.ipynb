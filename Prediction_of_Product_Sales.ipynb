{
  "nbformat": 4,
  "nbformat_minor": 0,
  "metadata": {
    "colab": {
      "provenance": [],
      "authorship_tag": "ABX9TyMr3iFYOpI6wX88ZTjbXJsQ",
      "include_colab_link": true
    },
    "kernelspec": {
      "name": "python3",
      "display_name": "Python 3"
    },
    "language_info": {
      "name": "python"
    }
  },
  "cells": [
    {
      "cell_type": "markdown",
      "metadata": {
        "id": "view-in-github",
        "colab_type": "text"
      },
      "source": [
        "<a href=\"https://colab.research.google.com/github/zal-developer/Production-of-Product-Sales./blob/main/Prediction_of_Product_Sales.ipynb\" target=\"_parent\"><img src=\"https://colab.research.google.com/assets/colab-badge.svg\" alt=\"Open In Colab\"/></a>"
      ]
    },
    {
      "cell_type": "markdown",
      "source": [
        "# Prediction of Product Sales"
      ],
      "metadata": {
        "id": "kEpeKPIOgaQj"
      }
    },
    {
      "cell_type": "markdown",
      "source": [
        "- Author:Zalwango Diana"
      ],
      "metadata": {
        "id": "K2jUKhaug40K"
      }
    },
    {
      "cell_type": "markdown",
      "source": [
        "## Project Overview"
      ],
      "metadata": {
        "id": "ZxzzO1o4hHzF"
      }
    },
    {
      "cell_type": "code",
      "source": [],
      "metadata": {
        "id": "ABefoJyWhYfm"
      },
      "execution_count": null,
      "outputs": []
    },
    {
      "cell_type": "markdown",
      "source": [
        "## Load and Inspect Data"
      ],
      "metadata": {
        "id": "tXfjR7l7hZWS"
      }
    },
    {
      "cell_type": "code",
      "source": [],
      "metadata": {
        "id": "Dhpb0TSyhhMj"
      },
      "execution_count": null,
      "outputs": []
    },
    {
      "cell_type": "markdown",
      "source": [
        "## Clean Data"
      ],
      "metadata": {
        "id": "XE_ih2szhiUT"
      }
    },
    {
      "cell_type": "code",
      "source": [],
      "metadata": {
        "id": "-d7NWe7phpvE"
      },
      "execution_count": null,
      "outputs": []
    },
    {
      "cell_type": "markdown",
      "source": [
        "## Exploratory Data Analysis"
      ],
      "metadata": {
        "id": "PAFHrPS7hqXf"
      }
    },
    {
      "cell_type": "code",
      "source": [],
      "metadata": {
        "id": "L4rmwg6Yh0qK"
      },
      "execution_count": null,
      "outputs": []
    },
    {
      "cell_type": "markdown",
      "source": [
        "## Feature Inspection"
      ],
      "metadata": {
        "id": "logRvclfh1Lx"
      }
    },
    {
      "cell_type": "code",
      "source": [],
      "metadata": {
        "id": "NXp-TVtIiv28"
      },
      "execution_count": null,
      "outputs": []
    }
  ]
}